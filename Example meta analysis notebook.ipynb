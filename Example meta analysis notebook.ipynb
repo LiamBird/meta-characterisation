{
 "cells": [
  {
   "cell_type": "code",
   "execution_count": 1,
   "id": "6c1de0e5",
   "metadata": {},
   "outputs": [
    {
     "data": {
      "application/vnd.jupyter.widget-view+json": {
       "model_id": "80cc7376427e4652bcc3927e63730900",
       "version_major": 2,
       "version_minor": 0
      },
      "text/plain": [
       "Tab(children=(VBox(children=(HBox(children=(Label(value='Start new data file'), SelectFileGeneralButton(descri…"
      ]
     },
     "execution_count": 1,
     "metadata": {},
     "output_type": "execute_result"
    }
   ],
   "source": [
    "import sys\n",
    "import pandas as pd\n",
    "\n",
    "sys.path.append(\"meta-characterisation-main\")\n",
    "from MetaChecklist import MetaChecklistTab\n",
    "\n",
    "meta = MetaChecklistTab(test=False)\n",
    "meta.tab\n"
   ]
  },
  {
   "cell_type": "code",
   "execution_count": null,
   "id": "a7843a46",
   "metadata": {},
   "outputs": [],
   "source": []
  }
 ],
 "metadata": {
  "kernelspec": {
   "display_name": "Python 3 (ipykernel)",
   "language": "python",
   "name": "python3"
  },
  "language_info": {
   "codemirror_mode": {
    "name": "ipython",
    "version": 3
   },
   "file_extension": ".py",
   "mimetype": "text/x-python",
   "name": "python",
   "nbconvert_exporter": "python",
   "pygments_lexer": "ipython3",
   "version": "3.11.5"
  }
 },
 "nbformat": 4,
 "nbformat_minor": 5
}
